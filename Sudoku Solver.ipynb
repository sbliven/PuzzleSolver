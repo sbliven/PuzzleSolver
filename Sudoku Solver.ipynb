{
 "cells": [
  {
   "cell_type": "code",
   "execution_count": null,
   "metadata": {
    "collapsed": true
   },
   "outputs": [],
   "source": [
    "from dlx import DLX\n",
    "import logging\n",
    "logging.getLogger().setLevel(logging.INFO)\n",
    "import pdb"
   ]
  },
  {
   "cell_type": "code",
   "execution_count": null,
   "metadata": {
    "collapsed": false
   },
   "outputs": [],
   "source": [
    "logging.info(\"infoidsj\")\n",
    "logging.warn(\"waren\")\n",
    "logging.debug(\"dlsj\")\n",
    "logging.error(\"erjl\")"
   ]
  },
  {
   "cell_type": "code",
   "execution_count": null,
   "metadata": {
    "collapsed": false
   },
   "outputs": [],
   "source": [
    "# Define simple tile coverage of 2x3 square\n",
    "columns = [(i,0) for i in [\"11\",\"12\",\"13\",\"21\",\"22\",dict(a=5)]]\n",
    "rows = (([1,1,0,1,0,0],\"topleftL\"),\n",
    "        ([1,0,0,1,0,0],\"leftside\"),\n",
    "        ([0,0,0,1,1,1],\"bottom\"),\n",
    "        ([0,0,0,0,1,1],\"bottomright\"),\n",
    "        ([0,0,1,0,0,0],\"topright\"),\n",
    "        ([0,1,1,0,0,1],\"toprightL\"),\n",
    "        ([1,1,1,1,1,1],\"trivial\"),\n",
    "        ([0,0,0,0,0,0],\"antitrivial\"))\n",
    "rows = (([0,1,3],\"topleftL\"),\n",
    "        ([0,3],\"leftside\"),\n",
    "        ([3,4,5],\"bottom\"),\n",
    "        ([4,5],\"bottomright\"),\n",
    "        ([2],\"topright\"),\n",
    "        ([1,2,5],\"toprightL\"),\n",
    "        ([0,1,2,3,4,5],\"trivial\"),\n",
    "        )\n",
    "rowshapes, rownames = zip(*rows)\n",
    "rowshapes, rownames"
   ]
  },
  {
   "cell_type": "code",
   "execution_count": null,
   "metadata": {
    "collapsed": false
   },
   "outputs": [],
   "source": [
    "dl = DLX(columns)\n",
    "dl.appendRows(rowshapes, rownames)"
   ]
  },
  {
   "cell_type": "code",
   "execution_count": null,
   "metadata": {
    "collapsed": false
   },
   "outputs": [],
   "source": [
    "for sol in dl.solve():\n",
    "    dl.printSolution(sol)\n",
    "    print"
   ]
  },
  {
   "cell_type": "code",
   "execution_count": null,
   "metadata": {
    "collapsed": false
   },
   "outputs": [],
   "source": [
    "dl.useRow(7)\n",
    "for sol in dl.solve():\n",
    "    dl.printSolution(sol)\n",
    "    print"
   ]
  },
  {
   "cell_type": "code",
   "execution_count": null,
   "metadata": {
    "collapsed": false
   },
   "outputs": [],
   "source": [
    "DLX??"
   ]
  },
  {
   "cell_type": "code",
   "execution_count": null,
   "metadata": {
    "collapsed": false
   },
   "outputs": [],
   "source": [
    "dl.getRowList(10)"
   ]
  },
  {
   "cell_type": "code",
   "execution_count": null,
   "metadata": {
    "collapsed": false
   },
   "outputs": [],
   "source": [
    "columns = [('a',DLX.PRIMARY), ('b',DLX.PRIMARY), ('c',DLX.PRIMARY), ('d',DLX.SECONDARY), ([1,2,3],DLX.PRIMARY)]\n",
    "d = DLX(columns)\n",
    "rows = [[1,2,4],\n",
    "        [0,1,3],\n",
    "        [0],\n",
    "        [0,1,2,3,4]]\n",
    "rowNames = ['row%i' % i for i in range(len(rows))]\n",
    "d.appendRows(rows, rowNames)\n",
    "for sol in d.solve():\n",
    "    d.printSolution(sol)\n",
    "    print\n",
    "list(d.solve())"
   ]
  },
  {
   "cell_type": "code",
   "execution_count": null,
   "metadata": {
    "collapsed": false
   },
   "outputs": [],
   "source": [
    "d.getRowList(7)"
   ]
  },
  {
   "cell_type": "code",
   "execution_count": null,
   "metadata": {
    "collapsed": false
   },
   "outputs": [],
   "source": [
    "class Group(object):\n",
    "    def __init__(self,name):\n",
    "        self.name = name\n",
    "        self._cells = []\n",
    "    def addCell(self,cell):\n",
    "        self._cells.append(cell)\n",
    "    def __repr__(self):\n",
    "        return self.name\n",
    "        return \"Group(name=%s,%d cells)\"%(self.name,len(self._cells))\n",
    "    def __str__(self):\n",
    "        return self.name\n",
    "class Cell(object):\n",
    "    def __init__(self,name=None,value=None):\n",
    "        self._groups = []\n",
    "        self._value = value\n",
    "        self.name = name\n",
    "    def addToGroup(self,group):\n",
    "        logging.debug(\"Adding %s to %s\",self, group)\n",
    "        self._groups.append(group)\n",
    "        group.addCell(self)\n",
    "    def getGroups(self):\n",
    "        return self._groups\n",
    "    def setValue(self,value):\n",
    "        self._value = value\n",
    "    def getValue(self):\n",
    "        return self._value\n",
    "    def __repr__(self):\n",
    "        return self.name\n",
    "        return \"Cell(name=%s,value=%s,%d groups)\"%(self.name,self._value,len(self._groups))\n",
    "    def __str__(self):\n",
    "        return self.name\n",
    "class LatinSquare(object):\n",
    "    def __init__(self,n,groups=[]):\n",
    "        self.n = n\n",
    "        self._groups = groups\n",
    "    def getGroups(self):\n",
    "        return self._groups\n",
    "    def __repr__(self):\n",
    "        return \"LatinSquare(n=%d,%d groups)\"%(self.n,len(self._groups))\n",
    "    def __str__(self):\n",
    "        return \"LatinSquare(%d)\"%self.n\n",
    "class Sudoku(LatinSquare):\n",
    "    def __init__(self,groupwidth,groupheight=None,board=None):\n",
    "        self._group_width = groupwidth\n",
    "        self._group_height = groupheight or groupwidth\n",
    "        # Numbers to fit \n",
    "        n = self._group_width*self._group_height\n",
    "        \n",
    "        self._rows = [Group(\"Row(%d)\"%i) for i in xrange(n)]\n",
    "        self._cols = [Group(\"Col(%d)\"%i) for i in xrange(n)]\n",
    "        self._blocks = []\n",
    "        self._cells = [[Cell(\"Cell(%d,%d)\"%(c,r)) for r in xrange(n)] for c in xrange(n)]\n",
    "        self._values = range(1,n+1)\n",
    "        \n",
    "        for by in xrange(self._group_width):\n",
    "            for bx in xrange(self._group_height):\n",
    "                block = Group(\"Block(%d,%d)\"%(bx,by))\n",
    "                self._blocks.append(block)\n",
    "                for x in xrange(self._group_width):\n",
    "                    for y in xrange(self._group_height):\n",
    "                        c = bx*self._group_width+x\n",
    "                        r = by*self._group_height+y\n",
    "                        logging.debug(\"Adding groups to %d,%d\",c,r)\n",
    "                        for g in [self._rows[r],self._cols[c],block]:\n",
    "                            self._cells[c][r].addToGroup(g)\n",
    "                        \n",
    "        super(Sudoku,self).__init__(n, self._rows + self._cols + self._blocks)\n",
    "        self.setBoard(board)\n",
    "    def setValue(self,col, row, value):\n",
    "        self[col][row].setValue(self._values[int(value)-1])\n",
    "    def setBoard(self,board):\n",
    "        if type(board) == str:\n",
    "            lines = board.split(\"\\n\")\n",
    "            if len(lines) != self.n:\n",
    "                raise ValueError(\"Wrong number of rows. Expected %d, found %d.\"%(self.n,len(lines)))\n",
    "            for r in xrange(self.n):\n",
    "                for c in xrange(self.n):\n",
    "                    if c >= len(lines[r]): break\n",
    "                    val = lines[r][c] #invert normal x,y order\n",
    "                    if val != \" \" and val != \"_\":\n",
    "                        try:\n",
    "                            val = int(lines[r][c])\n",
    "                        except: pass\n",
    "                        self.setValue(c,r,val)\n",
    "    def getValues(self):\n",
    "        return self._values\n",
    "    def __len__(self):\n",
    "        return self.n\n",
    "    def __getitem__(self,c):\n",
    "        \"\"\"sudoku[col][row] -> Cell\"\"\"\n",
    "        return self._cells[c]\n",
    "    def __str__(self):\n",
    "        return \"\\n\".join([\" \".join([str(self._cells[c][r].getValue() or \"_\") for c in xrange(self.n)]) for r in xrange(self.n)])\n",
    "    \n",
    "class Technique(object):\n",
    "    pass\n",
    "class DLXTechnique(Technique):\n",
    "    def __init__(self,square):\n",
    "        self._square = square\n",
    "        \n",
    "        groups = square.getGroups()\n",
    "        values = square.getValues()\n",
    "\n",
    "        constraints = [(g,v) for g in groups for v in values] #3n*n\n",
    "        constraints += [square[c][r] for c in xrange(len(square)) for r in xrange(len(square))] #n*n\n",
    "        \n",
    "        \n",
    "        blocks = []\n",
    "        names = []\n",
    "        \n",
    "        for c in xrange(len(square)):\n",
    "            for r in xrange(len(square)):\n",
    "                cell = square[c][r]\n",
    "                groups = cell.getGroups()\n",
    "                for value in square.getValues():\n",
    "                    names.append( (cell,value) )\n",
    "                    blocks.append( [ constraints.index( (g,value) ) for g in groups] + [constraints.index(cell)])\n",
    "        \n",
    "        self.dlx = DLX(zip(constraints,[DLX.PRIMARY]*len(constraints)))\n",
    "        self._rowNums = self.dlx.appendRows(blocks,names)\n",
    "        self._blocks = blocks\n",
    "        self._blockNames = names\n",
    "        \n",
    "        self.update()\n",
    "        \n",
    "    def update(self):\n",
    "        for name,num in zip(self._blockNames,self._rowNums):\n",
    "            cell,val = name\n",
    "            if cell.getValue() == val:\n",
    "                self.dlx.useRow(num)\n",
    "            \n",
    "    def solve(self):\n",
    "        soln = self.dlx.solve()\n",
    "        for rowNum in soln.next():\n",
    "            cell,val = d.dlx.N[rowNum]\n",
    "            cell.setValue(val)\n",
    "            logging.debug(\"Solved %d at %s\"%(val,cell))\n",
    "    def solutions(self):\n",
    "        for soln in self.dlx.solve():\n",
    "            for rowNum in soln:\n",
    "                cell,val = d.dlx.N[rowNum]\n",
    "                cell.setValue(val)\n",
    "            yield self._square\n",
    "        "
   ]
  },
  {
   "cell_type": "code",
   "execution_count": null,
   "metadata": {
    "collapsed": false
   },
   "outputs": [],
   "source": [
    "s = Sudoku(2,2)\n",
    "s.setBoard(\"\"\" 1  \n",
    "  2 \n",
    "   3\n",
    "4   \"\"\")\n",
    "print s"
   ]
  },
  {
   "cell_type": "code",
   "execution_count": null,
   "metadata": {
    "collapsed": false
   },
   "outputs": [],
   "source": [
    "s[1][0].getValue()"
   ]
  },
  {
   "cell_type": "code",
   "execution_count": null,
   "metadata": {
    "collapsed": false
   },
   "outputs": [],
   "source": [
    "d = DLXTechnique(s)\n",
    "for ss in d.solutions():\n",
    "    print ss\n",
    "    print\n",
    "\n"
   ]
  },
  {
   "cell_type": "code",
   "execution_count": null,
   "metadata": {
    "collapsed": false
   },
   "outputs": [],
   "source": [
    "board=\"\"\"   16 \n",
    "     4\n",
    " 2   3\n",
    "3   5 \n",
    "4     \n",
    " 51   \"\"\"\n",
    "s = Sudoku(3,2,board)\n",
    "print s"
   ]
  },
  {
   "cell_type": "code",
   "execution_count": null,
   "metadata": {
    "collapsed": false
   },
   "outputs": [],
   "source": [
    "d = DLXTechnique(s)\n",
    "for ss in d.solutions():\n",
    "    print ss\n",
    "    print"
   ]
  },
  {
   "cell_type": "code",
   "execution_count": null,
   "metadata": {
    "collapsed": false
   },
   "outputs": [],
   "source": [
    "print \"\\n\".join([\" \".join([\"%s-%s\"%(s[c][r].getGroups()[2],s[c][r].getValue()) for c in range(len(s))]) for r in range(len(s))])"
   ]
  },
  {
   "cell_type": "code",
   "execution_count": 63,
   "metadata": {
    "collapsed": false
   },
   "outputs": [
    {
     "name": "stdout",
     "output_type": "stream",
     "text": [
      "_ _ _ 6 _ 4 7 _ _\n",
      "7 _ 6 _ _ _ _ _ 9\n",
      "_ _ _ _ _ 5 _ 8 _\n",
      "_ 7 _ _ 2 _ _ 9 3\n",
      "8 _ _ _ _ _ _ _ 5\n",
      "4 3 _ _ 1 _ _ 7 _\n",
      "_ 5 _ 2 _ _ _ _ _\n",
      "3 _ _ _ _ _ 2 _ 8\n",
      "_ _ 2 3 _ 1 _ _ _\n"
     ]
    }
   ],
   "source": [
    "board=\"\"\"___6_47__\n",
    "7_6_____9\n",
    "_____5_8_\n",
    "_7__2__93\n",
    "8_______5\n",
    "43__1__7_\n",
    "_5_2_____\n",
    "3_____2_8\n",
    "__23_1___\"\"\"\n",
    "s = Sudoku(3,3,board)\n",
    "print s"
   ]
  },
  {
   "cell_type": "code",
   "execution_count": 64,
   "metadata": {
    "collapsed": false
   },
   "outputs": [
    {
     "name": "stdout",
     "output_type": "stream",
     "text": [
      "5 8 3 6 9 4 7 2 1\n",
      "7 1 6 8 3 2 5 4 9\n",
      "2 9 4 1 7 5 3 8 6\n",
      "6 7 1 5 2 8 4 9 3\n",
      "8 2 9 7 4 3 1 6 5\n",
      "4 3 5 9 1 6 8 7 2\n",
      "1 5 8 2 6 7 9 3 4\n",
      "3 6 7 4 5 9 2 1 8\n",
      "9 4 2 3 8 1 6 5 7\n",
      "\n"
     ]
    }
   ],
   "source": [
    "d = DLXTechnique(s)\n",
    "for ss in d.solutions():\n",
    "    print ss\n",
    "    print"
   ]
  },
  {
   "cell_type": "code",
   "execution_count": 65,
   "metadata": {
    "collapsed": false
   },
   "outputs": [
    {
     "name": "stdout",
     "output_type": "stream",
     "text": [
      "_ 7 4 _ _ _ 3 5 _\n",
      "_ _ 1 _ _ 5 _ _ _\n",
      "_ _ 2 _ _ 4 _ _ 1\n",
      "1 _ _ _ 8 _ _ 7 _\n",
      "_ _ _ 6 _ 2 _ _ _\n",
      "_ 6 _ _ 1 _ _ _ 3\n",
      "9 _ _ 2 _ _ 1 _ _\n",
      "_ _ _ 9 _ _ 6 _ _\n",
      "_ 3 7 _ _ _ 4 2 _\n"
     ]
    }
   ],
   "source": [
    "board=\"\"\"_74___35_\n",
    "__1__5___\n",
    "__2__4__1\n",
    "1___8__7_\n",
    "___6_2___\n",
    "_6__1___3\n",
    "9__2__1__\n",
    "___9__6__\n",
    "_37___42_\"\"\"\n",
    "s = Sudoku(3,3,board)\n",
    "print s"
   ]
  },
  {
   "cell_type": "code",
   "execution_count": 66,
   "metadata": {
    "collapsed": false
   },
   "outputs": [
    {
     "name": "stdout",
     "output_type": "stream",
     "text": [
      "6 7 4 8 9 1 3 5 2\n",
      "3 9 1 7 2 5 8 6 4\n",
      "5 8 2 3 6 4 7 9 1\n",
      "1 2 9 4 8 3 5 7 6\n",
      "4 5 3 6 7 2 9 1 8\n",
      "7 6 8 5 1 9 2 4 3\n",
      "9 4 6 2 3 7 1 8 5\n",
      "2 1 5 9 4 8 6 3 7\n",
      "8 3 7 1 5 6 4 2 9\n",
      "\n"
     ]
    }
   ],
   "source": [
    "d = DLXTechnique(s)\n",
    "for ss in d.solutions():\n",
    "    print ss\n",
    "    print"
   ]
  },
  {
   "cell_type": "code",
   "execution_count": null,
   "metadata": {
    "collapsed": true
   },
   "outputs": [],
   "source": []
  }
 ],
 "metadata": {
  "kernelspec": {
   "display_name": "Python 2",
   "language": "python",
   "name": "python2"
  },
  "language_info": {
   "codemirror_mode": {
    "name": "ipython",
    "version": 2
   },
   "file_extension": ".py",
   "mimetype": "text/x-python",
   "name": "python",
   "nbconvert_exporter": "python",
   "pygments_lexer": "ipython2",
   "version": "2.7.10"
  }
 },
 "nbformat": 4,
 "nbformat_minor": 0
}
